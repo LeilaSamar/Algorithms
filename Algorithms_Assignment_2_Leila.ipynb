{
  "nbformat": 4,
  "nbformat_minor": 0,
  "metadata": {
    "colab": {
      "provenance": []
    },
    "kernelspec": {
      "name": "python3",
      "display_name": "Python 3"
    },
    "language_info": {
      "name": "python"
    }
  },
  "cells": [
    {
      "cell_type": "markdown",
      "source": [
        "# Algorithms - Assignment 2 - Leila"
      ],
      "metadata": {
        "id": "twpPhrbvAhXw"
      }
    },
    {
      "cell_type": "markdown",
      "source": [
        "**Algorithms - Assignment 2 - Part 1**\n",
        "\n",
        "*You and your partner should send to each other your Assignment 1 submission.*\n",
        "\n",
        "\n",
        "My partner's Assignment 1 is stored in https://github.com/suzannemichie/UofTDSI_Algorithms_SMC2024"
      ],
      "metadata": {
        "id": "olLHSu6JBies"
      }
    },
    {
      "cell_type": "markdown",
      "source": [
        "**Algorithms - Assignment 2 - Part 2**\n",
        "\n",
        "*Create a Jupyter Notebook, create 6 of the following headings, and complete the following about your partner's assignment 1*"
      ],
      "metadata": {
        "id": "FEn-A5j3AfAw"
      }
    },
    {
      "cell_type": "markdown",
      "source": [
        "**Algorithms - Assignment 2 - Part 2-1**\n",
        "\n",
        "*Paraphrase the problem in your own words.*\n",
        "\n",
        "\n",
        "In an array of integer values, return the misssing integers within the range. The Range has no particular order and can have repeated integers."
      ],
      "metadata": {
        "id": "1yaBYv3SA0j_"
      }
    },
    {
      "cell_type": "markdown",
      "source": [
        "\n",
        "**Algorithms - Assignment 2 - Part 2-2**\n",
        "\n",
        "*Create 1 new example that demonstrates you understand the problem. Trace/walkthrough 1 example that your partner made and explain it.*\n",
        "\n",
        "\n",
        "Leila's example:\n",
        "\n",
        "Input: lst = [5, 3, 0, 1)\n",
        "\n",
        "Output: [2, 4]\n",
        "\n",
        "Suzanne's (my partner) examples:\n",
        "\n",
        "Suzzane made two examples, while her Example 4 is correct, her example 5 is not correct. Output for her Example 4 should be [0, 3, 6, 8, 9]\n",
        "\n",
        "\n",
        "Suzanne's Example 4\n",
        "\n",
        "Input: lst = [1, 2, 4, 5, 7, 10]\n",
        "\n",
        "Output: [0, 3, 6]\n",
        "\n",
        "Suzanne's Example 5\n",
        "\n",
        "Input: lst = [0, 2, 3, 4, 6, 8, 9]\n",
        "\n",
        "Output: [1, 5, 7]\n",
        "\n",
        "\n",
        "\n"
      ],
      "metadata": {
        "id": "f4zkO8tzBB_5"
      }
    },
    {
      "cell_type": "markdown",
      "source": [
        "\n",
        "**Algorithms - Assignment 2 - Part 2-3**\n",
        "\n",
        "*Copy the solution your partner wrote.*"
      ],
      "metadata": {
        "id": "AXb7cqJRBExW"
      }
    },
    {
      "cell_type": "code",
      "source": [
        "### Solution Suzanne (my partner) wrote:\n",
        "\n",
        "from typing import List\n",
        "\n",
        "def missing_num(nums: List[int]) -> List[int]:\n",
        "    n = len(nums)\n",
        "\n",
        "    # Create a set to store the unique numbers in the given list\n",
        "    num_set = set(nums)\n",
        "\n",
        "    # Initialize a list to store the missing numbers\n",
        "    missing_numbers = []\n",
        "\n",
        "    # Iterate through the range [0, n] and check for missing numbers\n",
        "    for i in range(n + 1):\n",
        "        if i not in num_set:\n",
        "            missing_numbers.append(i)\n",
        "\n",
        "    # If there are missing numbers, return the list. Otherwise, return [-1]\n",
        "    return missing_numbers if missing_numbers else [-1]\n",
        "\n",
        "# Example usage:\n",
        "lst1 = [0, 2]\n",
        "print(missing_num(lst1))  # Output: [1]\n",
        "\n",
        "lst2 = [5, 0, 1]\n",
        "print(missing_num(lst2))  # Output: [2, 3, 4]\n",
        "\n",
        "lst3 = [6, 8, 2, 3, 5, 7, 0, 1, 10]\n",
        "print(missing_num(lst3))  # Output: [4, 9]"
      ],
      "metadata": {
        "colab": {
          "base_uri": "https://localhost:8080/"
        },
        "id": "25iOKvhwNE33",
        "outputId": "2e8c71af-33aa-4a3a-a20c-f49ad9b01bc9"
      },
      "execution_count": null,
      "outputs": [
        {
          "output_type": "stream",
          "name": "stdout",
          "text": [
            "[1]\n",
            "[2, 3]\n",
            "[4, 9]\n"
          ]
        }
      ]
    },
    {
      "cell_type": "code",
      "source": [
        "# Example 4\n",
        "lst4 = [1, 2, 4, 5, 7, 10]\n",
        "print(missing_num(lst4))  # Output: [0, 3, 6]\n",
        "\n",
        "# Example 5\n",
        "lst5 = [0, 2, 3, 4, 6, 8, 9]\n",
        "print(missing_num(lst5))  # Output: [1, 5, 7]"
      ],
      "metadata": {
        "colab": {
          "base_uri": "https://localhost:8080/"
        },
        "id": "kOjZeGt_NhvC",
        "outputId": "f74b7865-a20c-4fcf-e331-0591a3624423"
      },
      "execution_count": null,
      "outputs": [
        {
          "output_type": "stream",
          "name": "stdout",
          "text": [
            "[0, 3, 6]\n",
            "[1, 5, 7]\n"
          ]
        }
      ]
    },
    {
      "cell_type": "markdown",
      "source": [
        "\n",
        "**Algorithms - Assignment 2 - Part 2-4**\n",
        "\n",
        "*Explain why their solution works in your own words.*\n",
        "\n",
        "Suzanne's solution is:\n",
        "- creating a set num_set that stores the unique integers from the input list\n",
        "nums\n",
        "- then it creates an empty list missing_numbers to store the missing numbers\n",
        "- then the algorithm iterates from 0 to n (where n is the length of the input list + 1) and checks if each number in this range is present in the num_set\n",
        "- if a number not found in num_set, is considered a missing number and added to missing_numbers list\n",
        "- if there are missing numbers in the list, it returns that list; otherwise, returning [-1]"
      ],
      "metadata": {
        "id": "iPKUB1dMBHL-"
      }
    },
    {
      "cell_type": "markdown",
      "source": [
        "**Algorithms - Assignment 2 - Part 2-5**\n",
        "\n",
        "*Explain the problem’s time and space complexity in your own words.*\n",
        "\n",
        "The time complexity of Suzanne's code is O(n) and n is the length of the input list nums. This is because the algorithm iterates through a range from 0 to n + 1 once to check for missing numbers, and each check on the set num_set takes O(1) time.\n",
        "\n",
        "The space complexity of Suzanne's code is O(n), and n is again the length of nums. This is because the code creates a set num_set to store the unique numbers in the input list, and also initializes a list missing_numbers to store the missing numbers. The size of these data structures depends on the number of elements in the input list.\n"
      ],
      "metadata": {
        "id": "_wDxutU1BKK-"
      }
    },
    {
      "cell_type": "markdown",
      "source": [
        "**Algorithms - Assignment 2 - Part 2-6**\n",
        "\n",
        "*Critique your partner's solution, including explanation, if there is anything should be adjusted.*\n",
        "\n",
        "Suzanne's code was correct and delivering correct outputs. However, if working with significantly large inputs and range of missing integers are extensive, an imprvement in the code would optimize the storage of missing ingeres, means reducing the space complexity.\n",
        "Instead of storing the missing numbers in a list and returning the list, we could modify the function to return the missing numbers as it finds them. If so, we can avoid storing all missing numbers in memory, but still returning the outputs.\n"
      ],
      "metadata": {
        "id": "uulZU5w4BX47"
      }
    },
    {
      "cell_type": "code",
      "source": [
        "## Suzanne's code modified:\n",
        "\n",
        "from typing import List\n",
        "\n",
        "def missing_num(nums: List[int]):\n",
        "    num_set = set(nums)\n",
        "\n",
        "    # Iterate through the range [0, n] and yield missing numbers\n",
        "    n = len(nums)\n",
        "    for i in range(n + 1):\n",
        "        if i not in num_set:\n",
        "            yield i\n",
        "\n",
        "# Example usage:\n",
        "lst1 = [0, 2]\n",
        "print(list(missing_num(lst1)))  # Output: [1]\n",
        "\n",
        "lst2 = [5, 0, 1]\n",
        "print(list(missing_num(lst2)))  # Output: [2, 3, 4]\n",
        "\n",
        "lst3 = [6, 8, 2, 3, 5, 7, 0, 1, 10]\n",
        "print(list(missing_num(lst3)))  # Output: [4, 9]"
      ],
      "metadata": {
        "colab": {
          "base_uri": "https://localhost:8080/"
        },
        "id": "ss1IBMrSU3b6",
        "outputId": "3a2af52b-3d36-481d-9653-8bbb611a4c6a"
      },
      "execution_count": null,
      "outputs": [
        {
          "output_type": "stream",
          "name": "stdout",
          "text": [
            "[1]\n",
            "[2, 3]\n",
            "[4, 9]\n"
          ]
        }
      ]
    },
    {
      "cell_type": "markdown",
      "source": [
        "**Algorithms - Assignment 2 - Part 3**\n",
        "\n",
        "*Please write a 200 word reflection documenting your studying process from assignment 1, and your presentation and reviewing experience with your partner at the bottom of the Juypter Notebook under a new heading \"Reflection.\" Again, export this Notebook as pdf.*\n"
      ],
      "metadata": {
        "id": "gW2RYV0PE5Sp"
      }
    },
    {
      "cell_type": "markdown",
      "source": [
        "**Algorithms - Assignment 2 - Part 3 - Reflection**\n",
        "\n",
        "(1) My assigned problem was Problem 1 which was \"Finding duplicate values in a Binary Tree\". It involved understanding how the algorithm uses a recursive approach to check for duplicates while traversing the tree. By testing the code with a sample tree, I learned about the importance of recursion in solving tree-related problems and the necessity of thorough testing to ensure the correctness and effectiveness of the solution. This exercise helped me to understand algorithms in the context of binary trees and proved the value of systematic analysis and testing in writing reliable codes.\n",
        "\n",
        "(2) The reviewing process of my partner's Assignment 1 \"Finding missing Integers in a List\" made me study the problem in full as if it was my own. I briefly thought of the potential solution(s) and with that in mind I tested my partner's inputs by executing her code. The outputs were correct. I tried a few new inputs with known outputs and used her code, all outputs were correct. I concluded her code is right even though such conclusions cannot be generalized for inputs of any length and order. I then thought if there are any other ways of achieving the same by taking less time and/or space."
      ],
      "metadata": {
        "id": "qqU_zI2cFUOZ"
      }
    }
  ]
}